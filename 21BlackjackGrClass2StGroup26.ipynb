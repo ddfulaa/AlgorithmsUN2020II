{
  "nbformat": 4,
  "nbformat_minor": 0,
  "metadata": {
    "colab": {
      "name": "21BlackjackGrClass2StGroup26.ipynb",
      "provenance": [],
      "collapsed_sections": []
    },
    "kernelspec": {
      "name": "python3",
      "display_name": "Python 3"
    }
  },
  "cells": [
    {
      "cell_type": "code",
      "metadata": {
        "id": "_o4MJ1Vb67yC",
        "colab_type": "code",
        "colab": {}
      },
      "source": [
        ""
      ],
      "execution_count": null,
      "outputs": []
    },
    {
      "cell_type": "code",
      "metadata": {
        "id": "UsZQ5c5Mzm3I",
        "colab_type": "code",
        "colab": {
          "base_uri": "https://localhost:8080/",
          "height": 689
        },
        "outputId": "c6ee2d2c-1475-4d87-adb9-f1b3bca1afaa"
      },
      "source": [
        "import random as r\n",
        "import matplotlib.pyplot as plt\n",
        "#play 21\n",
        "def sum21(deck,countCards):\n",
        "  auxDeck = deck[:]\n",
        "  sum = 0 \n",
        "  aux = 0\n",
        "  count = 0\n",
        "  while (sum < 21 ):\n",
        "    aux=r.choice(auxDeck)\n",
        "    sum=sum+aux\n",
        "    auxDeck.remove(aux)\n",
        "    count += 1\n",
        "  countCards[count] += 1\n",
        "  if sum == 21:\n",
        "    return 1\n",
        "  else:\n",
        "    return 0\n",
        "\n",
        "n=10000\n",
        "countSpanish = 0\n",
        "countPoker = 0\n",
        "countCardsSpanish = [0,0,0,0,0,0,0,0,0,0,0,0]\n",
        "countCardsPoker = [0,0,0,0,0,0,0,0,0,0,0,0]\n",
        "spanishDeck = [1,2,3,4,5,6,7,8,9,10,11,12,1,2,3,4,5,6,7,8,9,10,11,12,1,2,3,4,5,6,7,8,9,10,11,12,1,2,3,4,5,6,7,8,9,10,11,12]\n",
        "pokerDeck = [1,2,3,4,5,6,7,8,9,10,11,12,13,1,2,3,4,5,6,7,8,9,10,11,12,13,1,2,3,4,5,6,7,8,9,10,11,12,13,1,2,3,4,5,6,7,8,9,10,11,12,13]\n",
        "for i in range(1,n+1):\n",
        "  countSpanish += sum21(spanishDeck,countCardsSpanish)\n",
        "  countPoker += sum21(pokerDeck,countCardsPoker)\n",
        "probSpanish = countSpanish / n\n",
        "probPoker = countPoker / n\n",
        "\n",
        "print(\"The experimental probability of getting a 21 drawing cards sequentially from shuffled Spanish 48-deck is \"+ str(probSpanish)+\".\")\n",
        "fig1 = plt.figure()\n",
        "ax1 = fig1.add_axes([0,0,1,1])\n",
        "ax1.bar(range(0,12),countCardsSpanish)\n",
        "plt.show()\n",
        "print(\"The experimental probability of getting a 21 drawing cards sequentially from shuffled Poker 52-deck is \"+ str(probPoker)+\".\")\n",
        "fig2 = plt.figure()\n",
        "ax2 = fig2.add_axes([0,0,1,1])\n",
        "ax2.bar(range(0,12),countCardsPoker)\n",
        "plt.show()\n"
      ],
      "execution_count": null,
      "outputs": [
        {
          "output_type": "stream",
          "text": [
            "The experimental probability of getting a 21 drawing cards sequentially from shuffled Spanish 48-deck is 0.1566.\n"
          ],
          "name": "stdout"
        },
        {
          "output_type": "display_data",
          "data": {
            "image/png": "[encoded data removed]",
            "text/plain": [
              "<Figure size 432x288 with 1 Axes>"
            ]
          },
          "metadata": {
            "tags": [],
            "needs_background": "light"
          }
        },
        {
          "output_type": "stream",
          "text": [
            "The experimental probability of getting a 21 drawing cards sequentially from shuffled Poker 52-deck is 0.1412.\n"
          ],
          "name": "stdout"
        },
        {
          "output_type": "display_data",
          "data": {
            "image/png": "[encoded data removed]",
            "text/plain": [
              "<Figure size 432x288 with 1 Axes>"
            ]
          },
          "metadata": {
            "tags": [],
            "needs_background": "light"
          }
        }
      ]
    }
  ]
}