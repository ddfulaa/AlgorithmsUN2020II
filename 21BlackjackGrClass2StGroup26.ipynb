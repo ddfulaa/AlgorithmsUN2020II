{
  "nbformat": 4,
  "nbformat_minor": 0,
  "metadata": {
    "colab": {
      "name": "21BlackjackGrClass2StGroup26.ipynb",
      "provenance": [],
      "collapsed_sections": [],
      "include_colab_link": true
    },
    "kernelspec": {
      "name": "python3",
      "display_name": "Python 3"
    }
  },
  "cells": [
    {
      "cell_type": "markdown",
      "metadata": {
        "id": "view-in-github",
        "colab_type": "text"
      },
      "source": [
        "<a href=\"https://colab.research.google.com/github/ddfulaa/AlgorithmsUN2020II/blob/master/21BlackjackGrClass2StGroup26.ipynb\" target=\"_parent\"><img src=\"https://colab.research.google.com/assets/colab-badge.svg\" alt=\"Open In Colab\"/></a>"
      ]
    },
    {
      "cell_type": "markdown",
      "metadata": {
        "id": "s_DRi9o4KkZ6",
        "colab_type": "text"
      },
      "source": [
        "# 1 \n",
        "Calculate the probability of getting a 21 drawing cards sequentially from shuffled Spanish 48-deck with card values \n",
        "\n",
        "[1,2,3,4,5,6,7,10,11,12,1,2,3,4,5,6,7,8,9,10,11,12,1,2,3,4,5,6,7,8,9,10,11,12,1,2,3,4,5,6,7,8,9,10,11,12] \n",
        "\n",
        "and from a shuffled Poker 52-card with card values \n",
        "\n",
        "[1,2,3,4,5,6,7,8,9,10,11,12,13,1,2,3,4,5,6,7,8,9,10,11,12,13,1,2,3,4,5,6,7,8,9,10,11,12,13,1,2,3,4,5,6,7,8,9,10,11,12,13]. \n",
        "\n",
        "Plot the experimental distribution of the numbers of card requires to complete 21 in 10000 trials.\n",
        "\n",
        "* A n-card deck is shuffled if t all possible n! decks have equal probability 1/n! or equivalently if when choosing any card of the shuffled deck all n cards have the same probability 1/n of appearing.\n",
        "* Hint: Instead of shuffling the card deck an drawing sequentially it is equivalent to have a sorted list representing the cards and draw cards randomly located from that list with random.choice(list)."
      ]
    },
    {
      "cell_type": "code",
      "metadata": {
        "id": "UsZQ5c5Mzm3I",
        "colab_type": "code",
        "colab": {}
      },
      "source": [
        "import random as r\n",
        "import matplotlib.pyplot as plt\n",
        "#play 21\n",
        "def sum21(deck,countCards,sum):\n",
        "  auxDeck = deck[:]\n",
        "  aux = 0\n",
        "  count = 0\n",
        "  while (sum < 21 ):\n",
        "    aux=r.choice(auxDeck)\n",
        "    sum=sum+aux\n",
        "    auxDeck.remove(aux)\n",
        "    count += 1\n",
        "  \n",
        "  if sum == 21:\n",
        "    countCards[count] += 1\n",
        "    return 1\n",
        "  else:\n",
        "    return 0"
      ],
      "execution_count": 1,
      "outputs": []
    },
    {
      "cell_type": "code",
      "metadata": {
        "id": "AOLRgb3sLn00",
        "colab_type": "code",
        "colab": {
          "base_uri": "https://localhost:8080/",
          "height": 689
        },
        "outputId": "c45ac999-3fa8-4df6-909d-c88824745f86"
      },
      "source": [
        "n=10000\n",
        "countSpanish = 0\n",
        "countPoker = 0\n",
        "countCardsSpanish = [0,0,0,0,0,0,0,0,0,0,0,0]\n",
        "countCardsPoker = [0,0,0,0,0,0,0,0,0,0,0,0]\n",
        "spanishDeck = [1,2,3,4,5,6,7,8,9,10,11,12,1,2,3,4,5,6,7,8,9,10,11,12,1,2,3,4,5,6,7,8,9,10,11,12,1,2,3,4,5,6,7,8,9,10,11,12]\n",
        "pokerDeck = [1,2,3,4,5,6,7,8,9,10,11,12,13,1,2,3,4,5,6,7,8,9,10,11,12,13,1,2,3,4,5,6,7,8,9,10,11,12,13,1,2,3,4,5,6,7,8,9,10,11,12,13]\n",
        "\n",
        "for i in range(1,n+1):\n",
        "  countSpanish += sum21(spanishDeck,countCardsSpanish,0)\n",
        "  countPoker += sum21(pokerDeck,countCardsPoker,0)\n",
        "probSpanish = countSpanish / n\n",
        "probPoker = countPoker / n\n",
        "\n",
        "print(\"The experimental probability of getting a 21 drawing cards sequentially from shuffled Spanish 48-deck is \"+ str(probSpanish)+\".\")\n",
        "fig1 = plt.figure()\n",
        "ax1 = fig1.add_axes([0,0,1,1])\n",
        "ax1.bar(range(0,12),countCardsSpanish)\n",
        "plt.show()\n",
        "print(\"The experimental probability of getting a 21 drawing cards sequentially from shuffled Poker 52-deck is \"+ str(probPoker)+\".\")\n",
        "fig2 = plt.figure()\n",
        "ax2 = fig2.add_axes([0,0,1,1])\n",
        "ax2.bar(range(0,12),countCardsPoker)\n",
        "plt.show()"
      ],
      "execution_count": 2,
      "outputs": [
        {
          "output_type": "stream",
          "text": [
            "The experimental probability of getting a 21 drawing cards sequentially from shuffled Spanish 48-deck is 0.1567.\n"
          ],
          "name": "stdout"
        },
        {
          "output_type": "display_data",
          "data": {
            "image/png": "[encoded data removed]",
            "text/plain": [
              "<Figure size 432x288 with 1 Axes>"
            ]
          },
          "metadata": {
            "tags": [],
            "needs_background": "light"
          }
        },
        {
          "output_type": "stream",
          "text": [
            "The experimental probability of getting a 21 drawing cards sequentially from shuffled Poker 52-deck is 0.1473.\n"
          ],
          "name": "stdout"
        },
        {
          "output_type": "display_data",
          "data": {
            "image/png": "[encoded data removed]",
            "text/plain": [
              "<Figure size 432x288 with 1 Axes>"
            ]
          },
          "metadata": {
            "tags": [],
            "needs_background": "light"
          }
        }
      ]
    },
    {
      "cell_type": "markdown",
      "metadata": {
        "id": "K5uSbv42KbgZ",
        "colab_type": "text"
      },
      "source": [
        "\n",
        "\n",
        "---\n",
        "\n",
        "\n",
        "# **2**\n",
        "Calculate the probability of getting a 21 drawing cards sequentially from shuffled Spanish 48-deck with card values are \n",
        "\n",
        "[1,2,3,4,5,6,7,8,9,10,10,10,1,2,3,4,5,6,7,8,9,10,10,10,1,2,3,4,5,6,7,8,9,10,10,10,1,2,3,4,5,6,7,8,9,10,10,10] \n",
        "\n",
        "and \n",
        "\n",
        "[1,2,3,4,5,6,7,8,9,10,10,10,10,1,2,3,4,5,6,7,8,9,10,10,10,10,1,2,3,4,5,6,7,8,9,10,10,10,10,1,2,3,4,5,6,7,8,9,10,10,10,10] \n",
        "\n",
        "for the Spanish and Poker card decks. \n",
        "\n",
        "Plot the experimental distribution of the numbers of card requires to complete 21 in 10000 simulations."
      ]
    },
    {
      "cell_type": "code",
      "metadata": {
        "id": "s5nTy3c1MT_B",
        "colab_type": "code",
        "colab": {
          "base_uri": "https://localhost:8080/",
          "height": 689
        },
        "outputId": "0ffdd427-c28e-422c-cb88-d43f7ede9cb7"
      },
      "source": [
        "n=10000\n",
        "countSpanish = 0\n",
        "countPoker = 0\n",
        "countCardsSpanish = [0,0,0,0,0,0,0,0,0,0,0,0]\n",
        "countCardsPoker = [0,0,0,0,0,0,0,0,0,0,0,0]\n",
        "spanishDeck = [1,2,3,4,5,6,7,8,9,10,10,10,1,2,3,4,5,6,7,8,9,10,10,10,1,2,3,4,5,6,7,8,9,10,10,10,1,2,3,4,5,6,7,8,9,10,10,10]\n",
        "pokerDeck = [1,2,3,4,5,6,7,8,9,10,10,10,10,1,2,3,4,5,6,7,8,9,10,10,10,10,1,2,3,4,5,6,7,8,9,10,10,10,10,1,2,3,4,5,6,7,8,9,10,10,10,10]\n",
        "\n",
        "for i in range(1,n+1):\n",
        "  countSpanish += sum21(spanishDeck,countCardsSpanish,0)\n",
        "  countPoker += sum21(pokerDeck,countCardsPoker,0)\n",
        "probSpanish = countSpanish / n\n",
        "probPoker = countPoker / n\n",
        "\n",
        "print(\"The experimental probability of getting a 21 drawing cards sequentially from shuffled Spanish 48-deck is \"+ str(probSpanish)+\".\")\n",
        "fig1 = plt.figure()\n",
        "ax1 = fig1.add_axes([0,0,1,1])\n",
        "ax1.bar(range(0,12),countCardsSpanish)\n",
        "plt.show()\n",
        "print(\"The experimental probability of getting a 21 drawing cards sequentially from shuffled Poker 52-deck is \"+ str(probPoker)+\".\")\n",
        "fig2 = plt.figure()\n",
        "ax2 = fig2.add_axes([0,0,1,1])\n",
        "ax2.bar(range(0,12),countCardsPoker)\n",
        "plt.show()"
      ],
      "execution_count": 3,
      "outputs": [
        {
          "output_type": "stream",
          "text": [
            "The experimental probability of getting a 21 drawing cards sequentially from shuffled Spanish 48-deck is 0.1478.\n"
          ],
          "name": "stdout"
        },
        {
          "output_type": "display_data",
          "data": {
            "image/png": "[encoded data removed]",
            "text/plain": [
              "<Figure size 432x288 with 1 Axes>"
            ]
          },
          "metadata": {
            "tags": [],
            "needs_background": "light"
          }
        },
        {
          "output_type": "stream",
          "text": [
            "The experimental probability of getting a 21 drawing cards sequentially from shuffled Poker 52-deck is 0.1439.\n"
          ],
          "name": "stdout"
        },
        {
          "output_type": "display_data",
          "data": {
            "image/png": "[encoded data removed]",
            "text/plain": [
              "<Figure size 432x288 with 1 Axes>"
            ]
          },
          "metadata": {
            "tags": [],
            "needs_background": "light"
          }
        }
      ]
    },
    {
      "cell_type": "markdown",
      "metadata": {
        "id": "DXH44Xe8M8yI",
        "colab_type": "text"
      },
      "source": [
        "\n",
        "\n",
        "---\n",
        "\n",
        "\n",
        "# **3**\n",
        "\n",
        "Calculate the probability of getting a 21, with the Spanish and Poker card deck, assuming that you are in the middle of game and the remaining deck has n/2 card and you have cards [7,7,5]. You pick arbitrary what card are in the remaining deck with the only restriction that there are be maximum two 7s and three 5s). \n",
        "\n",
        "Plot the experimental distribution of the numbers of card requires to complete 21 in 10000 simulations."
      ]
    },
    {
      "cell_type": "code",
      "metadata": {
        "id": "0_00cWPROOaC",
        "colab_type": "code",
        "colab": {
          "base_uri": "https://localhost:8080/",
          "height": 689
        },
        "outputId": "f2b7f11d-1dac-42db-f89f-00e5952f03a0"
      },
      "source": [
        "def chooseHalfDeck(deck):\n",
        "  aux=deck[:]\n",
        "  for i in range(1,int((len(deck)-1)/2)):\n",
        "    aux.remove(r.choice(aux))\n",
        "  return aux\n",
        "n=10000\n",
        "spanishDeck3 =[1,2,3,4,6,8,9,10,11,12,1,2,3,4,5,6,8,9,10,11,12,1,2,3,4,5,6,7,8,9,10,11,12,1,2,3,4,5,6,7,8,9,10,11,12]\n",
        "pokerDeck3 = [1,2,3,4,6,8,9,10,11,12,13,1,2,3,4,5,6,8,9,10,11,12,13,1,2,3,4,5,6,7,8,9,10,11,12,13,1,2,3,4,5,6,7,8,9,10,11,12,13]\n",
        "countSpanish = 0 #counts the number of times we got 21 with the Spanish deck\n",
        "countPoker = 0 #counts the number of times we got 21 with the Poker deck\n",
        "countCardsSpanish = [0,0,0,0,0,0,0,0,0,0,0,0]\n",
        "countCardsPoker = [0,0,0,0,0,0,0,0,0,0,0,0]\n",
        "\n",
        "for i in range(1,n+1):\n",
        "  aux=chooseHalfDeck(spanishDeck3) #choose Half Deck of the spanishDeck3 (not included 5,7,7)\n",
        "  countSpanish += sum21(aux,countCardsSpanish,19) #7+7+5=19\n",
        "  aux=chooseHalfDeck(pokerDeck3)\n",
        "  countPoker += sum21(aux,countCardsPoker,19)\n",
        "probSpanish = countSpanish / n\n",
        "probPoker = countPoker / n\n",
        "\n",
        "print(\"The experimental probability of getting a 21 with the above conditions from Spanish deck is \"+ str(probSpanish)+\".\")\n",
        "fig1 = plt.figure()\n",
        "ax1 = fig1.add_axes([0,0,1,1])\n",
        "ax1.bar(range(0,12),countCardsSpanish)\n",
        "plt.show()\n",
        "print(\"The experimental probability of getting a 21 with the above conditions from Poker deck is \"+ str(probPoker)+\".\")\n",
        "fig2 = plt.figure()\n",
        "ax2 = fig2.add_axes([0,0,1,1])\n",
        "ax2.bar(range(0,12),countCardsPoker)\n",
        "plt.show()"
      ],
      "execution_count": 4,
      "outputs": [
        {
          "output_type": "stream",
          "text": [
            "The experimental probability of getting a 21 with the above conditions from Spanish deck is 0.0955.\n"
          ],
          "name": "stdout"
        },
        {
          "output_type": "display_data",
          "data": {
            "image/png": "[encoded data removed]",
            "text/plain": [
              "<Figure size 432x288 with 1 Axes>"
            ]
          },
          "metadata": {
            "tags": [],
            "needs_background": "light"
          }
        },
        {
          "output_type": "stream",
          "text": [
            "The experimental probability of getting a 21 with the above conditions from Poker deck is 0.086.\n"
          ],
          "name": "stdout"
        },
        {
          "output_type": "display_data",
          "data": {
            "image/png": "[encoded data removed]",
            "text/plain": [
              "<Figure size 432x288 with 1 Axes>"
            ]
          },
          "metadata": {
            "tags": [],
            "needs_background": "light"
          }
        }
      ]
    },
    {
      "cell_type": "markdown",
      "metadata": {
        "id": "Pi6cj8pHde47",
        "colab_type": "text"
      },
      "source": [
        "\n",
        "\n",
        "---\n",
        "\n",
        "\n",
        "# **4**\n",
        "Find remaining decks for Spanish and Poker card decks, with the number of cards according to the list below, with highest (hot deck) and lowest (cold deck) probabilities of getting 21 assuming that you have cards [7,7,5]. Calculate the probabilities analytically and verify them with Montecarlo. Plot the experimental distribution of the numbers of card requires to complete 21 in 10000 simulations.\n",
        "\n",
        "* 10 remaining cards- Alg Gr 2 -911"
      ]
    },
    {
      "cell_type": "markdown",
      "metadata": {
        "id": "X9lXwbc8EdAP",
        "colab_type": "text"
      },
      "source": [
        "## Solution \n",
        "We took the following Decks\n",
        "\n",
        "* spanishHotDeck =[1,2,3,1,2,3,1,2,1,2]\n",
        "* spanishColdDeck = [10,10,11,11,12,12,12,12,11,11]\n",
        "* pokerHotDeck =[1,2,3,1,2,3,1,2,1,2]\n",
        "* pokerColdDeck =[11,11,12,12,13,13,13,13,12,12]\n",
        "\n",
        "We have two cases to obtain 21 if we have [7,7,5]: with two ones or only a two.\n",
        "The first case give us a probability of $\\frac{4}{10} * \\frac{3}{9} = \\frac{2}{15}$. The second one give us a probability of $\\frac{4}{10}=\\frac{2}{5}$. Thus the probability to obtain 21 with a hot deck is $\\frac{2}{5} + \\frac{2}{15} = \\frac{8}{15} \\approx 0.533$\n",
        "\n",
        "With respect to cold Decks, clearly we cannot obtain 21, then the probability is 0."
      ]
    },
    {
      "cell_type": "code",
      "metadata": {
        "id": "UXtMfu_cAmAR",
        "colab_type": "code",
        "colab": {
          "base_uri": "https://localhost:8080/",
          "height": 1000
        },
        "outputId": "1c3f6812-a97f-4566-b944-046e112d9212"
      },
      "source": [
        "n=10000\n",
        "spanishHotDeck =[1,2,3,1,2,3,1,2,1,2]\n",
        "spanishColdDeck = [10,10,11,11,12,12,12,12,11,11]\n",
        "pokerHotDeck =[1,2,3,1,2,3,1,2,1,2]\n",
        "pokerColdDeck =[11,11,12,12,13,13,13,13,12,12]\n",
        "countSpanishHot = 0 #counts the number of times we got 21 with the Spanish deck\n",
        "countPokerHot = 0 #counts the number of times we got 21 with the Poker deck\n",
        "countSpanishCold = 0 #counts the number of times we got 21 with the Spanish deck\n",
        "countPokerCold = 0 #counts the number of times we got 21 with the Poker deck\n",
        "countCardsSpanishHot = [0,0,0,0,0,0,0,0,0,0,0,0]\n",
        "countCardsPokerHot = [0,0,0,0,0,0,0,0,0,0,0,0]\n",
        "countCardsSpanishCold = [0,0,0,0,0,0,0,0,0,0,0,0]\n",
        "countCardsPokerCold = [0,0,0,0,0,0,0,0,0,0,0,0]\n",
        "for i in range(1,n+1):\n",
        "  countSpanishHot += sum21(spanishHotDeck,countCardsSpanishHot,19) #7+7+5=19\n",
        "  countSpanishCold += sum21(spanishColdDeck,countCardsSpanishCold,19) #7+7+5=19\n",
        "  countPokerHot += sum21(pokerHotDeck,countCardsPokerHot,19)\n",
        "  countPokerCold += sum21(pokerColdDeck,countCardsPokerCold,19)\n",
        "probSpanishHot = countSpanishHot / n\n",
        "probSpanishCold = countSpanishCold / n\n",
        "probPokerHot = countPokerHot / n\n",
        "probPokerCold = countPokerCold / n\n",
        "\n",
        "print(\"The experimental probability of getting a 21 with the above conditions from Hot Spanish deck is \"+ str(probSpanishHot)+\".\")\n",
        "fig1 = plt.figure()\n",
        "ax1 = fig1.add_axes([0,0,1,1])\n",
        "ax1.bar(range(0,12),countCardsSpanishHot)\n",
        "plt.show()\n",
        "print(\"The experimental probability of getting a 21 with the above conditions from Cold Spanish deck is \"+ str(probSpanishCold)+\".\")\n",
        "fig1 = plt.figure()\n",
        "ax1 = fig1.add_axes([0,0,1,1])\n",
        "ax1.bar(range(0,12),countCardsSpanishCold)\n",
        "plt.show()\n",
        "print(\"The experimental probability of getting a 21 with the above conditions from Hot Poker deck is \"+ str(probPokerHot)+\".\")\n",
        "fig2 = plt.figure()\n",
        "ax2 = fig2.add_axes([0,0,1,1])\n",
        "ax2.bar(range(0,12),countCardsPokerHot)\n",
        "plt.show()\n",
        "print(\"The experimental probability of getting a 21 with the above conditions from Cold Poker deck is \"+ str(probPokerCold)+\".\")\n",
        "fig2 = plt.figure()\n",
        "ax2 = fig2.add_axes([0,0,1,1])\n",
        "ax2.bar(range(0,12),countCardsPokerCold)\n",
        "plt.show()"
      ],
      "execution_count": 15,
      "outputs": [
        {
          "output_type": "stream",
          "text": [
            "The experimental probability of getting a 21 with the above conditions from Hot Spanish deck is 0.5325.\n"
          ],
          "name": "stdout"
        },
        {
          "output_type": "display_data",
          "data": {
            "image/png": "[encoded data removed]",
            "text/plain": [
              "<Figure size 432x288 with 1 Axes>"
            ]
          },
          "metadata": {
            "tags": [],
            "needs_background": "light"
          }
        },
        {
          "output_type": "stream",
          "text": [
            "The experimental probability of getting a 21 with the above conditions from Cold Spanish deck is 0.0.\n"
          ],
          "name": "stdout"
        },
        {
          "output_type": "display_data",
          "data": {
            "image/png": "[encoded data removed]",
            "text/plain": [
              "<Figure size 432x288 with 1 Axes>"
            ]
          },
          "metadata": {
            "tags": [],
            "needs_background": "light"
          }
        },
        {
          "output_type": "stream",
          "text": [
            "The experimental probability of getting a 21 with the above conditions from Hot Poker deck is 0.5243.\n"
          ],
          "name": "stdout"
        },
        {
          "output_type": "display_data",
          "data": {
            "image/png": "[encoded data removed]",
            "text/plain": [
              "<Figure size 432x288 with 1 Axes>"
            ]
          },
          "metadata": {
            "tags": [],
            "needs_background": "light"
          }
        },
        {
          "output_type": "stream",
          "text": [
            "The experimental probability of getting a 21 with the above conditions from Cold Poker deck is 0.0.\n"
          ],
          "name": "stdout"
        },
        {
          "output_type": "display_data",
          "data": {
            "image/png": "[encoded data removed]",
            "text/plain": [
              "<Figure size 432x288 with 1 Axes>"
            ]
          },
          "metadata": {
            "tags": [],
            "needs_background": "light"
          }
        }
      ]
    },
    {
      "cell_type": "markdown",
      "metadata": {
        "id": "gmzfoA9vfc9L",
        "colab_type": "text"
      },
      "source": [
        "\n",
        "\n",
        "---\n",
        "\n",
        "# **5**\n",
        "\n",
        "If Ben goes to Vegas every weekend (Friday, Saturday and Sunday), plays every weekend day 10 hours, each game takes 3 mins. He gets the cards [7,7,5] and a remaining hot deck with probability 1/10, the cards in hot deck are the ones obtained in the previous quiz point 4. Asume that for cold decks the Ben has no cards and the remaining deck is the complete deck. He bets \\$1000 on hot decks and \\$10 on cold decks. What is the estimated amount of money that Ben wins or losses on a weekend estimated with 10000 simulations using both the Spanish and Poker card decks? Plot the experimental distribution of the numbers of card requires to complete 21 in 10000 simulations."
      ]
    },
    {
      "cell_type": "code",
      "metadata": {
        "id": "GqmDaWu7kSJa",
        "colab_type": "code",
        "colab": {
          "base_uri": "https://localhost:8080/",
          "height": 723
        },
        "outputId": "75910897-3971-4408-f564-94f7561718d6"
      },
      "source": [
        "n=100000\n",
        "spanishHotDeck =[[1,2,3,1,2,3,1,2,1,2],19]\n",
        "spanishColdDeck = [[1,2,3,4,5,6,7,8,9,10,11,12,1,2,3,4,5,6,7,8,9,10,11,12,1,2,3,4,5,6,7,8,9,10,11,12,1,2,3,4,5,6,7,8,9,10,11,12],0]\n",
        "pokerHotDeck =[[1,2,3,1,2,3,1,2,1,2],19]\n",
        "pokerColdDeck =[[1,2,3,4,5,6,7,8,9,10,11,12,13,1,2,3,4,5,6,7,8,9,10,11,12,13,1,2,3,4,5,6,7,8,9,10,11,12,13,1,2,3,4,5,6,7,8,9,10,11,12,13],0]\n",
        "\n",
        "spanishDecks=[spanishHotDeck, spanishColdDeck]\n",
        "pokerDecks=[pokerHotDeck, pokerColdDeck]\n",
        "hotBet=1000\n",
        "coldBet=10\n",
        "\n",
        "countSpanish = 0 #counts the number of times we got 21 with the Spanish deck\n",
        "countPoker = 0 #counts the number of times we got 21 with the Poker deck\n",
        "\n",
        "countCardsSpanish = [0,0,0,0,0,0,0,0,0,0,0,0]\n",
        "countCardsPoker = [0,0,0,0,0,0,0,0,0,0,0,0]\n",
        "\n",
        "for i in range(1,n+1):\n",
        "  spanishCase=r.choices(spanishDecks,weights=(0.1,0.9),k=1)\n",
        "  pokerCase=r.choices(pokerDecks,weights=(0.1,0.9),k=1)\n",
        "  resultSpanish = sum21(spanishCase[0][0],countCardsSpanish,spanishCase[0][1])\n",
        "  resultPoker = sum21(pokerCase[0][0],countCardsPoker,pokerCase[0][1])\n",
        "  countSpanish += resultSpanish\n",
        "  countPoker += resultPoker\n",
        "\n",
        "probSpanish = countSpanish / n\n",
        "probPoker = countPoker / n\n",
        "\n",
        "# 400 is the total of games he plays on a weekend = 2 days * 10 hours per day * 60 minutes per hour / 3 minutes per game\n",
        "# 109 is the estimated amount of money he spents per game 0.1*1000 + 0.9*10=109\n",
        "# when he wins, it's spected to double what he spent, 218\n",
        "\n",
        "estimated_won_amount_spanish = 400*probSpanish*(0.1*hotBet+0.9*coldBet)*2\n",
        "estimated_won_amount_poker = 400*probPoker*(0.1*hotBet+0.9*coldBet)*2\n",
        "\n",
        "print(\"the estimated amount of money that Ben wins or losses on a weekend with a Spanish Deck Game is \"+ str(estimated_won_amount_spanish-400*(0.1*hotBet+0.9*coldBet)))\n",
        "print(\"the estimated amount of money that Ben wins or losses on a weekend with a Poker Deck Game is \"+ str(estimated_won_amount_poker-400*(0.1*hotBet+0.9*coldBet)))\n",
        "\n",
        "print(\"The experimental probability of getting a 21 with the above conditions from Spanish deck is \"+ str(probSpanish)+\".\")\n",
        "fig1 = plt.figure()\n",
        "ax1 = fig1.add_axes([0,0,1,1])\n",
        "ax1.bar(range(0,12),countCardsSpanish)\n",
        "plt.show()\n",
        "print(\"The experimental probability of getting a 21 with the above conditions from Poker deck is \"+ str(probPoker)+\".\")\n",
        "fig2 = plt.figure()\n",
        "ax2 = fig2.add_axes([0,0,1,1])\n",
        "ax2.bar(range(0,12),countCardsPoker)\n",
        "plt.show()"
      ],
      "execution_count": 58,
      "outputs": [
        {
          "output_type": "stream",
          "text": [
            "the estimated amount of money that Ben wins or losses on a weekend with a Spanish Deck Game is -26685.816\n",
            "the estimated amount of money that Ben wins or losses on a weekend with a Poker Deck Game is -27681.64\n",
            "The experimental probability of getting a 21 with the above conditions from Spanish deck is 0.19397.\n"
          ],
          "name": "stdout"
        },
        {
          "output_type": "display_data",
          "data": {
            "image/png": "[encoded data removed]",
            "text/plain": [
              "<Figure size 432x288 with 1 Axes>"
            ]
          },
          "metadata": {
            "tags": [],
            "needs_background": "light"
          }
        },
        {
          "output_type": "stream",
          "text": [
            "The experimental probability of getting a 21 with the above conditions from Poker deck is 0.18255.\n"
          ],
          "name": "stdout"
        },
        {
          "output_type": "display_data",
          "data": {
            "image/png": "[encoded data removed]",
            "text/plain": [
              "<Figure size 432x288 with 1 Axes>"
            ]
          },
          "metadata": {
            "tags": [],
            "needs_background": "light"
          }
        }
      ]
    },
    {
      "cell_type": "markdown",
      "metadata": {
        "id": "SODplerrmXWD",
        "colab_type": "text"
      },
      "source": [
        "\n",
        "---\n",
        "\n",
        "# **6**\n",
        "Extra credit (one class participation) . Calculate the probabilities of having the cards [7,7,5] and a remaining hot deck with 12,10 and 8 cards. Calculate the estimated amount of money that Ben wins or losses on a weekend estimated with 10 million simulations with these probabilities and the same assumptions in previous quiz point 5 and using both the Spanish and Poker card decks."
      ]
    }
  ]
}