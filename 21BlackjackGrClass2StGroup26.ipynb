{
  "nbformat": 4,
  "nbformat_minor": 0,
  "metadata": {
    "colab": {
      "name": "21BlackjackGrClass2StGroup26.ipynb",
      "provenance": [],
      "collapsed_sections": [],
      "include_colab_link": true
    },
    "kernelspec": {
      "name": "python3",
      "display_name": "Python 3"
    }
  },
  "cells": [
    {
      "cell_type": "markdown",
      "metadata": {
        "id": "view-in-github",
        "colab_type": "text"
      },
      "source": [
        "<a href=\"https://colab.research.google.com/github/ddfulaa/AlgorithmsUN2020II/blob/master/21BlackjackGrClass2StGroup26.ipynb\" target=\"_parent\"><img src=\"https://colab.research.google.com/assets/colab-badge.svg\" alt=\"Open In Colab\"/></a>"
      ]
    },
    {
      "cell_type": "markdown",
      "metadata": {
        "id": "s_DRi9o4KkZ6",
        "colab_type": "text"
      },
      "source": [
        "# 1 \n",
        "Calculate the probability of getting a 21 drawing cards sequentially from shuffled Spanish 48-deck with card values \n",
        "\n",
        "[1,2,3,4,5,6,7,10,11,12,1,2,3,4,5,6,7,8,9,10,11,12,1,2,3,4,5,6,7,8,9,10,11,12,1,2,3,4,5,6,7,8,9,10,11,12] \n",
        "\n",
        "and from a shuffled Poker 52-card with card values \n",
        "\n",
        "[1,2,3,4,5,6,7,8,9,10,11,12,13,1,2,3,4,5,6,7,8,9,10,11,12,13,1,2,3,4,5,6,7,8,9,10,11,12,13,1,2,3,4,5,6,7,8,9,10,11,12,13]. \n",
        "\n",
        "Plot the experimental distribution of the numbers of card requires to complete 21 in 10000 trials.\n",
        "\n",
        "* A n-card deck is shuffled if t all possible n! decks have equal probability 1/n! or equivalently if when choosing any card of the shuffled deck all n cards have the same probability 1/n of appearing.\n",
        "* Hint: Instead of shuffling the card deck an drawing sequentially it is equivalent to have a sorted list representing the cards and draw cards randomly located from that list with random.choice(list)."
      ]
    },
    {
      "cell_type": "code",
      "metadata": {
        "id": "UsZQ5c5Mzm3I",
        "colab_type": "code",
        "colab": {}
      },
      "source": [
        "import random as r\n",
        "import matplotlib.pyplot as plt\n",
        "#play 21\n",
        "def sum21(deck,countCards,sum):\n",
        "  auxDeck = deck[:]\n",
        "  aux = 0\n",
        "  count = 0\n",
        "  while (sum < 21 ):\n",
        "    aux=r.choice(auxDeck)\n",
        "    sum=sum+aux\n",
        "    auxDeck.remove(aux)\n",
        "    count += 1\n",
        "  \n",
        "  if sum == 21:\n",
        "    countCards[count] += 1\n",
        "    return 1\n",
        "  else:\n",
        "    return 0"
      ],
      "execution_count": 101,
      "outputs": []
    },
    {
      "cell_type": "code",
      "metadata": {
        "id": "AOLRgb3sLn00",
        "colab_type": "code",
        "colab": {
          "base_uri": "https://localhost:8080/",
          "height": 689
        },
        "outputId": "6d76ce8a-2894-4d69-a270-f7cc5311ca2b"
      },
      "source": [
        "n=10000\n",
        "countSpanish = 0\n",
        "countPoker = 0\n",
        "countCardsSpanish = [0,0,0,0,0,0,0,0,0,0,0,0]\n",
        "countCardsPoker = [0,0,0,0,0,0,0,0,0,0,0,0]\n",
        "spanishDeck = [1,2,3,4,5,6,7,8,9,10,11,12,1,2,3,4,5,6,7,8,9,10,11,12,1,2,3,4,5,6,7,8,9,10,11,12,1,2,3,4,5,6,7,8,9,10,11,12]\n",
        "pokerDeck = [1,2,3,4,5,6,7,8,9,10,11,12,13,1,2,3,4,5,6,7,8,9,10,11,12,13,1,2,3,4,5,6,7,8,9,10,11,12,13,1,2,3,4,5,6,7,8,9,10,11,12,13]\n",
        "\n",
        "for i in range(1,n+1):\n",
        "  countSpanish += sum21(spanishDeck,countCardsSpanish,0)\n",
        "  countPoker += sum21(pokerDeck,countCardsPoker,0)\n",
        "probSpanish = countSpanish / n\n",
        "probPoker = countPoker / n\n",
        "\n",
        "print(\"The experimental probability of getting a 21 drawing cards sequentially from shuffled Spanish 48-deck is \"+ str(probSpanish)+\".\")\n",
        "fig1 = plt.figure()\n",
        "ax1 = fig1.add_axes([0,0,1,1])\n",
        "ax1.bar(range(0,12),countCardsSpanish)\n",
        "plt.show()\n",
        "print(\"The experimental probability of getting a 21 drawing cards sequentially from shuffled Poker 52-deck is \"+ str(probPoker)+\".\")\n",
        "fig2 = plt.figure()\n",
        "ax2 = fig2.add_axes([0,0,1,1])\n",
        "ax2.bar(range(0,12),countCardsPoker)\n",
        "plt.show()"
      ],
      "execution_count": 102,
      "outputs": [
        {
          "output_type": "stream",
          "text": [
            "The experimental probability of getting a 21 drawing cards sequentially from shuffled Spanish 48-deck is 0.1608.\n"
          ],
          "name": "stdout"
        },
        {
          "output_type": "display_data",
          "data": {
            "image/png": "[encoded data removed]",
            "text/plain": [
              "<Figure size 432x288 with 1 Axes>"
            ]
          },
          "metadata": {
            "tags": [],
            "needs_background": "light"
          }
        },
        {
          "output_type": "stream",
          "text": [
            "The experimental probability of getting a 21 drawing cards sequentially from shuffled Poker 52-deck is 0.1475.\n"
          ],
          "name": "stdout"
        },
        {
          "output_type": "display_data",
          "data": {
            "image/png": "[encoded data removed]",
            "text/plain": [
              "<Figure size 432x288 with 1 Axes>"
            ]
          },
          "metadata": {
            "tags": [],
            "needs_background": "light"
          }
        }
      ]
    },
    {
      "cell_type": "markdown",
      "metadata": {
        "id": "K5uSbv42KbgZ",
        "colab_type": "text"
      },
      "source": [
        "\n",
        "\n",
        "---\n",
        "\n",
        "\n",
        "# **2**\n",
        "Calculate the probability of getting a 21 drawing cards sequentially from shuffled Spanish 48-deck with card values are \n",
        "\n",
        "[1,2,3,4,5,6,7,8,9,10,10,10,1,2,3,4,5,6,7,8,9,10,10,10,1,2,3,4,5,6,7,8,9,10,10,10,1,2,3,4,5,6,7,8,9,10,10,10] \n",
        "\n",
        "and \n",
        "\n",
        "[1,2,3,4,5,6,7,8,9,10,10,10,10,1,2,3,4,5,6,7,8,9,10,10,10,10,1,2,3,4,5,6,7,8,9,10,10,10,10,1,2,3,4,5,6,7,8,9,10,10,10,10] \n",
        "\n",
        "for the Spanish and Poker card decks. \n",
        "\n",
        "Plot the experimental distribution of the numbers of card requires to complete 21 in 10000 simulations."
      ]
    },
    {
      "cell_type": "code",
      "metadata": {
        "id": "s5nTy3c1MT_B",
        "colab_type": "code",
        "colab": {
          "base_uri": "https://localhost:8080/",
          "height": 689
        },
        "outputId": "8a3559ff-b745-4c11-c7cb-1d9fa0e325f7"
      },
      "source": [
        "n=10000\n",
        "countSpanish = 0\n",
        "countPoker = 0\n",
        "countCardsSpanish = [0,0,0,0,0,0,0,0,0,0,0,0]\n",
        "countCardsPoker = [0,0,0,0,0,0,0,0,0,0,0,0]\n",
        "spanishDeck = [1,2,3,4,5,6,7,8,9,10,10,10,1,2,3,4,5,6,7,8,9,10,10,10,1,2,3,4,5,6,7,8,9,10,10,10,1,2,3,4,5,6,7,8,9,10,10,10]\n",
        "pokerDeck = [1,2,3,4,5,6,7,8,9,10,10,10,10,1,2,3,4,5,6,7,8,9,10,10,10,10,1,2,3,4,5,6,7,8,9,10,10,10,10,1,2,3,4,5,6,7,8,9,10,10,10,10]\n",
        "\n",
        "for i in range(1,n+1):\n",
        "  countSpanish += sum21(spanishDeck,countCardsSpanish,0)\n",
        "  countPoker += sum21(pokerDeck,countCardsPoker,0)\n",
        "probSpanish = countSpanish / n\n",
        "probPoker = countPoker / n\n",
        "\n",
        "print(\"The experimental probability of getting a 21 drawing cards sequentially from shuffled Spanish 48-deck is \"+ str(probSpanish)+\".\")\n",
        "fig1 = plt.figure()\n",
        "ax1 = fig1.add_axes([0,0,1,1])\n",
        "ax1.bar(range(0,12),countCardsSpanish)\n",
        "plt.show()\n",
        "print(\"The experimental probability of getting a 21 drawing cards sequentially from shuffled Poker 52-deck is \"+ str(probPoker)+\".\")\n",
        "fig2 = plt.figure()\n",
        "ax2 = fig2.add_axes([0,0,1,1])\n",
        "ax2.bar(range(0,12),countCardsPoker)\n",
        "plt.show()"
      ],
      "execution_count": 103,
      "outputs": [
        {
          "output_type": "stream",
          "text": [
            "The experimental probability of getting a 21 drawing cards sequentially from shuffled Spanish 48-deck is 0.1466.\n"
          ],
          "name": "stdout"
        },
        {
          "output_type": "display_data",
          "data": {
            "image/png": "[encoded data removed]",
            "text/plain": [
              "<Figure size 432x288 with 1 Axes>"
            ]
          },
          "metadata": {
            "tags": [],
            "needs_background": "light"
          }
        },
        {
          "output_type": "stream",
          "text": [
            "The experimental probability of getting a 21 drawing cards sequentially from shuffled Poker 52-deck is 0.1403.\n"
          ],
          "name": "stdout"
        },
        {
          "output_type": "display_data",
          "data": {
            "image/png": "[encoded data removed]",
            "text/plain": [
              "<Figure size 432x288 with 1 Axes>"
            ]
          },
          "metadata": {
            "tags": [],
            "needs_background": "light"
          }
        }
      ]
    },
    {
      "cell_type": "markdown",
      "metadata": {
        "id": "DXH44Xe8M8yI",
        "colab_type": "text"
      },
      "source": [
        "\n",
        "\n",
        "---\n",
        "\n",
        "\n",
        "# **3**\n",
        "\n",
        "Calculate the probability of getting a 21, with the Spanish and Poker card deck, assuming that you are in the middle of game and the remaining deck has n/2 card and you have cards [7,7,5]. You pick arbitrary what card are in the remaining deck with the only restriction that there are be maximum two 7s and three 5s). \n",
        "\n",
        "Plot the experimental distribution of the numbers of card requires to complete 21 in 10000 simulations."
      ]
    },
    {
      "cell_type": "code",
      "metadata": {
        "id": "0_00cWPROOaC",
        "colab_type": "code",
        "colab": {
          "base_uri": "https://localhost:8080/",
          "height": 689
        },
        "outputId": "d2f150fa-1c7a-4700-891f-236e00be4426"
      },
      "source": [
        "def chooseHalfDeck(deck):\n",
        "  aux=deck[:]\n",
        "  for i in range(1,int((len(deck)-1)/2)):\n",
        "    aux.remove(r.choice(aux))\n",
        "  return aux\n",
        "n=10000\n",
        "spanishDeck3 =[1,2,3,4,6,8,9,10,11,12,1,2,3,4,5,6,8,9,10,11,12,1,2,3,4,5,6,7,8,9,10,11,12,1,2,3,4,5,6,7,8,9,10,11,12]\n",
        "pokerDeck3 = [1,2,3,4,6,8,9,10,11,12,13,1,2,3,4,5,6,8,9,10,11,12,13,1,2,3,4,5,6,7,8,9,10,11,12,13,1,2,3,4,5,6,7,8,9,10,11,12,13]\n",
        "countSpanish = 0 #counts the number of times we got 21 with the Spanish deck\n",
        "countPoker = 0 #counts the number of times we got 21 with the Poker deck\n",
        "countCardsSpanish = [0,0,0,0,0,0,0,0,0,0,0,0]\n",
        "countCardsPoker = [0,0,0,0,0,0,0,0,0,0,0,0]\n",
        "\n",
        "for i in range(1,n+1):\n",
        "  aux=chooseHalfDeck(spanishDeck3) #choose Half Deck of the spanishDeck3 (not included 5,7,7)\n",
        "  countSpanish += sum21(aux,countCardsSpanish,19) #7+7+5=19\n",
        "  aux=chooseHalfDeck(pokerDeck3)\n",
        "  countPoker += sum21(aux,countCardsPoker,19)\n",
        "probSpanish = countSpanish / n\n",
        "probPoker = countPoker / n\n",
        "\n",
        "print(\"The experimental probability of getting a 21 drawing cards sequentially from shuffled Spanish 48-deck is \"+ str(probSpanish)+\".\")\n",
        "fig1 = plt.figure()\n",
        "ax1 = fig1.add_axes([0,0,1,1])\n",
        "ax1.bar(range(0,12),countCardsSpanish)\n",
        "plt.show()\n",
        "print(\"The experimental probability of getting a 21 drawing cards sequentially from shuffled Poker 52-deck is \"+ str(probPoker)+\".\")\n",
        "fig2 = plt.figure()\n",
        "ax2 = fig2.add_axes([0,0,1,1])\n",
        "ax2.bar(range(0,12),countCardsPoker)\n",
        "plt.show()"
      ],
      "execution_count": 104,
      "outputs": [
        {
          "output_type": "stream",
          "text": [
            "The experimental probability of getting a 21 drawing cards sequentially from shuffled Spanish 48-deck is 0.0905.\n"
          ],
          "name": "stdout"
        },
        {
          "output_type": "display_data",
          "data": {
            "image/png": "[encoded data removed]",
            "text/plain": [
              "<Figure size 432x288 with 1 Axes>"
            ]
          },
          "metadata": {
            "tags": [],
            "needs_background": "light"
          }
        },
        {
          "output_type": "stream",
          "text": [
            "The experimental probability of getting a 21 drawing cards sequentially from shuffled Poker 52-deck is 0.0867.\n"
          ],
          "name": "stdout"
        },
        {
          "output_type": "display_data",
          "data": {
            "image/png": "[encoded data removed]",
            "text/plain": [
              "<Figure size 432x288 with 1 Axes>"
            ]
          },
          "metadata": {
            "tags": [],
            "needs_background": "light"
          }
        }
      ]
    },
    {
      "cell_type": "markdown",
      "metadata": {
        "id": "Pi6cj8pHde47",
        "colab_type": "text"
      },
      "source": [
        ""
      ]
    }
  ]
}