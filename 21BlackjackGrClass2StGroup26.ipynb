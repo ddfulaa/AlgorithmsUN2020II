{
  "nbformat": 4,
  "nbformat_minor": 0,
  "metadata": {
    "colab": {
      "name": "21BlackjackGrClass2StGroup26.ipynb",
      "provenance": [],
      "collapsed_sections": [],
      "include_colab_link": true
    },
    "kernelspec": {
      "name": "python3",
      "display_name": "Python 3"
    }
  },
  "cells": [
    {
      "cell_type": "markdown",
      "metadata": {
        "id": "view-in-github",
        "colab_type": "text"
      },
      "source": [
        "<a href=\"https://colab.research.google.com/github/ddfulaa/AlgorithmsUN2020II/blob/master/21BlackjackGrClass2StGroup26.ipynb\" target=\"_parent\"><img src=\"https://colab.research.google.com/assets/colab-badge.svg\" alt=\"Open In Colab\"/></a>"
      ]
    },
    {
      "cell_type": "markdown",
      "metadata": {
        "id": "s_DRi9o4KkZ6",
        "colab_type": "text"
      },
      "source": [
        "# 1 \n",
        "Calculate the probability of getting a 21 drawing cards sequentially from shuffled Spanish 48-deck with card values \n",
        "\n",
        "[1,2,3,4,5,6,7,10,11,12,1,2,3,4,5,6,7,8,9,10,11,12,1,2,3,4,5,6,7,8,9,10,11,12,1,2,3,4,5,6,7,8,9,10,11,12] \n",
        "\n",
        "and from a shuffled Poker 52-card with card values \n",
        "\n",
        "[1,2,3,4,5,6,7,8,9,10,11,12,13,1,2,3,4,5,6,7,8,9,10,11,12,13,1,2,3,4,5,6,7,8,9,10,11,12,13,1,2,3,4,5,6,7,8,9,10,11,12,13]. \n",
        "\n",
        "Plot the experimental distribution of the numbers of card requires to complete 21 in 10000 trials.\n",
        "\n",
        "* A n-card deck is shuffled if t all possible n! decks have equal probability 1/n! or equivalently if when choosing any card of the shuffled deck all n cards have the same probability 1/n of appearing.\n",
        "* Hint: Instead of shuffling the card deck an drawing sequentially it is equivalent to have a sorted list representing the cards and draw cards randomly located from that list with random.choice(list)."
      ]
    },
    {
      "cell_type": "code",
      "metadata": {
        "id": "UsZQ5c5Mzm3I",
        "colab_type": "code",
        "colab": {}
      },
      "source": [
        "import random as r\n",
        "import matplotlib.pyplot as plt\n",
        "#play 21\n",
        "def sum21(deck,countCards,sum):\n",
        "  auxDeck = deck[:]\n",
        "  aux = 0\n",
        "  count = 0\n",
        "  while (sum < 21 ):\n",
        "    aux=r.choice(auxDeck)\n",
        "    sum=sum+aux\n",
        "    auxDeck.remove(aux)\n",
        "    count += 1\n",
        "  \n",
        "  if sum == 21:\n",
        "    countCards[count] += 1\n",
        "    return 1\n",
        "  else:\n",
        "    return 0"
      ],
      "execution_count": 1,
      "outputs": []
    },
    {
      "cell_type": "code",
      "metadata": {
        "id": "AOLRgb3sLn00",
        "colab_type": "code",
        "colab": {
          "base_uri": "https://localhost:8080/",
          "height": 689
        },
        "outputId": "c45ac999-3fa8-4df6-909d-c88824745f86"
      },
      "source": [
        "n=10000\n",
        "countSpanish = 0\n",
        "countPoker = 0\n",
        "countCardsSpanish = [0,0,0,0,0,0,0,0,0,0,0,0]\n",
        "countCardsPoker = [0,0,0,0,0,0,0,0,0,0,0,0]\n",
        "spanishDeck = [1,2,3,4,5,6,7,8,9,10,11,12,1,2,3,4,5,6,7,8,9,10,11,12,1,2,3,4,5,6,7,8,9,10,11,12,1,2,3,4,5,6,7,8,9,10,11,12]\n",
        "pokerDeck = [1,2,3,4,5,6,7,8,9,10,11,12,13,1,2,3,4,5,6,7,8,9,10,11,12,13,1,2,3,4,5,6,7,8,9,10,11,12,13,1,2,3,4,5,6,7,8,9,10,11,12,13]\n",
        "\n",
        "for i in range(1,n+1):\n",
        "  countSpanish += sum21(spanishDeck,countCardsSpanish,0)\n",
        "  countPoker += sum21(pokerDeck,countCardsPoker,0)\n",
        "probSpanish = countSpanish / n\n",
        "probPoker = countPoker / n\n",
        "\n",
        "print(\"The experimental probability of getting a 21 drawing cards sequentially from shuffled Spanish 48-deck is \"+ str(probSpanish)+\".\")\n",
        "fig1 = plt.figure()\n",
        "ax1 = fig1.add_axes([0,0,1,1])\n",
        "ax1.bar(range(0,12),countCardsSpanish)\n",
        "plt.show()\n",
        "print(\"The experimental probability of getting a 21 drawing cards sequentially from shuffled Poker 52-deck is \"+ str(probPoker)+\".\")\n",
        "fig2 = plt.figure()\n",
        "ax2 = fig2.add_axes([0,0,1,1])\n",
        "ax2.bar(range(0,12),countCardsPoker)\n",
        "plt.show()"
      ],
      "execution_count": 2,
      "outputs": [
        {
          "output_type": "stream",
          "text": [
            "The experimental probability of getting a 21 drawing cards sequentially from shuffled Spanish 48-deck is 0.1567.\n"
          ],
          "name": "stdout"
        },
        {
          "output_type": "display_data",
          "data": {
            "image/png": "[encoded data removed]",
            "text/plain": [
              "<Figure size 432x288 with 1 Axes>"
            ]
          },
          "metadata": {
            "tags": [],
            "needs_background": "light"
          }
        },
        {
          "output_type": "stream",
          "text": [
            "The experimental probability of getting a 21 drawing cards sequentially from shuffled Poker 52-deck is 0.1473.\n"
          ],
          "name": "stdout"
        },
        {
          "output_type": "display_data",
          "data": {
            "image/png": "[encoded data removed]",
            "text/plain": [
              "<Figure size 432x288 with 1 Axes>"
            ]
          },
          "metadata": {
            "tags": [],
            "needs_background": "light"
          }
        }
      ]
    },
    {
      "cell_type": "markdown",
      "metadata": {
        "id": "K5uSbv42KbgZ",
        "colab_type": "text"
      },
      "source": [
        "\n",
        "\n",
        "---\n",
        "\n",
        "\n",
        "# **2**\n",
        "Calculate the probability of getting a 21 drawing cards sequentially from shuffled Spanish 48-deck with card values are \n",
        "\n",
        "[1,2,3,4,5,6,7,8,9,10,10,10,1,2,3,4,5,6,7,8,9,10,10,10,1,2,3,4,5,6,7,8,9,10,10,10,1,2,3,4,5,6,7,8,9,10,10,10] \n",
        "\n",
        "and \n",
        "\n",
        "[1,2,3,4,5,6,7,8,9,10,10,10,10,1,2,3,4,5,6,7,8,9,10,10,10,10,1,2,3,4,5,6,7,8,9,10,10,10,10,1,2,3,4,5,6,7,8,9,10,10,10,10] \n",
        "\n",
        "for the Spanish and Poker card decks. \n",
        "\n",
        "Plot the experimental distribution of the numbers of card requires to complete 21 in 10000 simulations."
      ]
    },
    {
      "cell_type": "code",
      "metadata": {
        "id": "s5nTy3c1MT_B",
        "colab_type": "code",
        "colab": {
          "base_uri": "https://localhost:8080/",
          "height": 689
        },
        "outputId": "0ffdd427-c28e-422c-cb88-d43f7ede9cb7"
      },
      "source": [
        "n=10000\n",
        "countSpanish = 0\n",
        "countPoker = 0\n",
        "countCardsSpanish = [0,0,0,0,0,0,0,0,0,0,0,0]\n",
        "countCardsPoker = [0,0,0,0,0,0,0,0,0,0,0,0]\n",
        "spanishDeck = [1,2,3,4,5,6,7,8,9,10,10,10,1,2,3,4,5,6,7,8,9,10,10,10,1,2,3,4,5,6,7,8,9,10,10,10,1,2,3,4,5,6,7,8,9,10,10,10]\n",
        "pokerDeck = [1,2,3,4,5,6,7,8,9,10,10,10,10,1,2,3,4,5,6,7,8,9,10,10,10,10,1,2,3,4,5,6,7,8,9,10,10,10,10,1,2,3,4,5,6,7,8,9,10,10,10,10]\n",
        "\n",
        "for i in range(1,n+1):\n",
        "  countSpanish += sum21(spanishDeck,countCardsSpanish,0)\n",
        "  countPoker += sum21(pokerDeck,countCardsPoker,0)\n",
        "probSpanish = countSpanish / n\n",
        "probPoker = countPoker / n\n",
        "\n",
        "print(\"The experimental probability of getting a 21 drawing cards sequentially from shuffled Spanish 48-deck is \"+ str(probSpanish)+\".\")\n",
        "fig1 = plt.figure()\n",
        "ax1 = fig1.add_axes([0,0,1,1])\n",
        "ax1.bar(range(0,12),countCardsSpanish)\n",
        "plt.show()\n",
        "print(\"The experimental probability of getting a 21 drawing cards sequentially from shuffled Poker 52-deck is \"+ str(probPoker)+\".\")\n",
        "fig2 = plt.figure()\n",
        "ax2 = fig2.add_axes([0,0,1,1])\n",
        "ax2.bar(range(0,12),countCardsPoker)\n",
        "plt.show()"
      ],
      "execution_count": 3,
      "outputs": [
        {
          "output_type": "stream",
          "text": [
            "The experimental probability of getting a 21 drawing cards sequentially from shuffled Spanish 48-deck is 0.1478.\n"
          ],
          "name": "stdout"
        },
        {
          "output_type": "display_data",
          "data": {
            "image/png": "[encoded data removed]",
            "text/plain": [
              "<Figure size 432x288 with 1 Axes>"
            ]
          },
          "metadata": {
            "tags": [],
            "needs_background": "light"
          }
        },
        {
          "output_type": "stream",
          "text": [
            "The experimental probability of getting a 21 drawing cards sequentially from shuffled Poker 52-deck is 0.1439.\n"
          ],
          "name": "stdout"
        },
        {
          "output_type": "display_data",
          "data": {
            "image/png": "[encoded data removed]",
            "text/plain": [
              "<Figure size 432x288 with 1 Axes>"
            ]
          },
          "metadata": {
            "tags": [],
            "needs_background": "light"
          }
        }
      ]
    },
    {
      "cell_type": "markdown",
      "metadata": {
        "id": "DXH44Xe8M8yI",
        "colab_type": "text"
      },
      "source": [
        "\n",
        "\n",
        "---\n",
        "\n",
        "\n",
        "# **3**\n",
        "\n",
        "Calculate the probability of getting a 21, with the Spanish and Poker card deck, assuming that you are in the middle of game and the remaining deck has n/2 card and you have cards [7,7,5]. You pick arbitrary what card are in the remaining deck with the only restriction that there are be maximum two 7s and three 5s). \n",
        "\n",
        "Plot the experimental distribution of the numbers of card requires to complete 21 in 10000 simulations."
      ]
    },
    {
      "cell_type": "code",
      "metadata": {
        "id": "0_00cWPROOaC",
        "colab_type": "code",
        "colab": {
          "base_uri": "https://localhost:8080/",
          "height": 689
        },
        "outputId": "f2b7f11d-1dac-42db-f89f-00e5952f03a0"
      },
      "source": [
        "def chooseHalfDeck(deck):\n",
        "  aux=deck[:]\n",
        "  for i in range(1,int((len(deck)-1)/2)):\n",
        "    aux.remove(r.choice(aux))\n",
        "  return aux\n",
        "n=10000\n",
        "spanishDeck3 =[1,2,3,4,6,8,9,10,11,12,1,2,3,4,5,6,8,9,10,11,12,1,2,3,4,5,6,7,8,9,10,11,12,1,2,3,4,5,6,7,8,9,10,11,12]\n",
        "pokerDeck3 = [1,2,3,4,6,8,9,10,11,12,13,1,2,3,4,5,6,8,9,10,11,12,13,1,2,3,4,5,6,7,8,9,10,11,12,13,1,2,3,4,5,6,7,8,9,10,11,12,13]\n",
        "countSpanish = 0 #counts the number of times we got 21 with the Spanish deck\n",
        "countPoker = 0 #counts the number of times we got 21 with the Poker deck\n",
        "countCardsSpanish = [0,0,0,0,0,0,0,0,0,0,0,0]\n",
        "countCardsPoker = [0,0,0,0,0,0,0,0,0,0,0,0]\n",
        "\n",
        "for i in range(1,n+1):\n",
        "  aux=chooseHalfDeck(spanishDeck3) #choose Half Deck of the spanishDeck3 (not included 5,7,7)\n",
        "  countSpanish += sum21(aux,countCardsSpanish,19) #7+7+5=19\n",
        "  aux=chooseHalfDeck(pokerDeck3)\n",
        "  countPoker += sum21(aux,countCardsPoker,19)\n",
        "probSpanish = countSpanish / n\n",
        "probPoker = countPoker / n\n",
        "\n",
        "print(\"The experimental probability of getting a 21 with the above conditions from Spanish deck is \"+ str(probSpanish)+\".\")\n",
        "fig1 = plt.figure()\n",
        "ax1 = fig1.add_axes([0,0,1,1])\n",
        "ax1.bar(range(0,12),countCardsSpanish)\n",
        "plt.show()\n",
        "print(\"The experimental probability of getting a 21 with the above conditions from Poker deck is \"+ str(probPoker)+\".\")\n",
        "fig2 = plt.figure()\n",
        "ax2 = fig2.add_axes([0,0,1,1])\n",
        "ax2.bar(range(0,12),countCardsPoker)\n",
        "plt.show()"
      ],
      "execution_count": 4,
      "outputs": [
        {
          "output_type": "stream",
          "text": [
            "The experimental probability of getting a 21 with the above conditions from Spanish deck is 0.0955.\n"
          ],
          "name": "stdout"
        },
        {
          "output_type": "display_data",
          "data": {
            "image/png": "[encoded data removed]",
            "text/plain": [
              "<Figure size 432x288 with 1 Axes>"
            ]
          },
          "metadata": {
            "tags": [],
            "needs_background": "light"
          }
        },
        {
          "output_type": "stream",
          "text": [
            "The experimental probability of getting a 21 with the above conditions from Poker deck is 0.086.\n"
          ],
          "name": "stdout"
        },
        {
          "output_type": "display_data",
          "data": {
            "image/png": "[encoded data removed]",
            "text/plain": [
              "<Figure size 432x288 with 1 Axes>"
            ]
          },
          "metadata": {
            "tags": [],
            "needs_background": "light"
          }
        }
      ]
    },
    {
      "cell_type": "markdown",
      "metadata": {
        "id": "Pi6cj8pHde47",
        "colab_type": "text"
      },
      "source": [
        "\n",
        "\n",
        "---\n",
        "\n",
        "\n",
        "# **4**\n",
        "Find remaining decks for Spanish and Poker card decks, with the number of cards according to the list below, with highest (hot deck) and lowest (cold deck) probabilities of getting 21 assuming that you have cards [7,7,5]. Calculate the probabilities analytically and verify them with Montecarlo. Plot the experimental distribution of the numbers of card requires to complete 21 in 10000 simulations.\n",
        "\n",
        "* 10 remaining cards- Alg Gr 2 -911"
      ]
    },
    {
      "cell_type": "code",
      "metadata": {
        "id": "pfLzr_rQkN3v",
        "colab_type": "code",
        "colab": {
          "base_uri": "https://localhost:8080/",
          "height": 808
        },
        "outputId": "95c7ad61-833a-4d22-f0fe-0419a81983ee"
      },
      "source": [
        "def deck_8(deck):\n",
        "  aux_array=deck[:]\n",
        "  aux_array_8=[]\n",
        "  for i in range(1,9):\n",
        "    aux_array_8.append(r.choice(aux_array))\n",
        "  return aux_array_8\n",
        "\n",
        "def hotDeck(deck):\n",
        "  count = 0\n",
        "  for i in range(len(deck)):\n",
        "    if deck[i] <= 2:      \n",
        "      count +=1\n",
        "  if count >=1:\n",
        "    return 1\n",
        "  else:\n",
        "    return 0\n",
        "  \n",
        "\n",
        "n = 10000\n",
        "countSpDeck = 0\n",
        "countPkDeck = 0\n",
        "countHotSpDeck = 0\n",
        "countHotPkDeck = 0\n",
        "arrayCountSp = [0,0,0,0,0,0,0,0,0,0,0,0]\n",
        "arrayCountPk = [0,0,0,0,0,0,0,0,0,0,0,0]\n",
        "spanishDeckWithout_P4 = [1,2,3,4,6,8,9,10,11,12,1,2,3,4,5,6,8,9,10,11,12,1,2,3,4,5,6,7,8,9,10,11,12,1,2,3,4,5,6,7,8,9,10,11,12]\n",
        "pokerDeckWithout_P4 = [1,2,3,4,6,8,9,10,11,12,13,1,2,3,4,5,6,8,9,10,11,12,13,1,2,3,4,5,6,7,8,9,10,11,12,13,1,2,3,4,5,6,7,8,9,10,11,12,13]\n",
        "\n",
        "for i in range(1, n+1):\n",
        "  aux = deck_8(spanishDeckWithout_P4)\n",
        "  countSpDeck += sum21(aux,arrayCountSp,19)\n",
        "  countHotSpDeck += hotDeck(aux)\n",
        "\n",
        "  aux = deck_8(pokerDeckWithout_P4)\n",
        "  countPkDeck += sum21(aux, arrayCountPk,19)  \n",
        "  countHotPkDeck += hotDeck(aux)\n",
        "  \n",
        "print(\"Hot Decks Spanish: \", countHotSpDeck/n*100,\" %\")\n",
        "print(\"Cold Deck Spanish: \", (1-countHotSpDeck/n)*100,\" %\\n\")\n",
        "\n",
        "print(\"Hot Decks Poker: \", countHotPkDeck/n*100,\" %\")\n",
        "print(\"Cold Deck Poker: \", (1-countHotPkDeck/n)*100,\" %\\n\\n\")\n",
        "\n",
        "probSpanish = countSpDeck / n\n",
        "probPoker = countPkDeck / n\n",
        "\n",
        "print(\"The probability for obtain a 21 (Spanish) \"+ str(round(probSpanish,4)*100) + \"%\")\n",
        "plot7 = plt.figure()\n",
        "axisPlot7 = plot7.add_axes([0,0,1,1])\n",
        "axisPlot7.bar(range(0,12),arrayCountSp)\n",
        "plt.show()\n",
        "print(\"The probability for obtain a 21 (Poker) \"+ str(round(probPoker,4)*100) +\"%\")\n",
        "plot8 = plt.figure()\n",
        "axisPlot8 = plot8.add_axes([0,0,1,1])\n",
        "axisPlot8.bar(range(0,12),arrayCountPk)\n",
        "plt.show()"
      ],
      "execution_count": 7,
      "outputs": [
        {
          "output_type": "stream",
          "text": [
            "Hot Decks Spanish:  79.69000000000001  %\n",
            "Cold Deck Spanish:  20.309999999999995  %\n",
            "\n",
            "Hot Decks Poker:  76.19  %\n",
            "Cold Deck Poker:  23.81  %\n",
            "\n",
            "\n",
            "The probability for obtain a 21 (Spanish) 9.62%\n"
          ],
          "name": "stdout"
        },
        {
          "output_type": "display_data",
          "data": {
            "image/png": "[encoded data removed]",
            "text/plain": [
              "<Figure size 432x288 with 1 Axes>"
            ]
          },
          "metadata": {
            "tags": [],
            "needs_background": "light"
          }
        },
        {
          "output_type": "stream",
          "text": [
            "The probability for obtain a 21 (Poker) 8.76%\n"
          ],
          "name": "stdout"
        },
        {
          "output_type": "display_data",
          "data": {
            "image/png": "[encoded data removed]",
            "text/plain": [
              "<Figure size 432x288 with 1 Axes>"
            ]
          },
          "metadata": {
            "tags": [],
            "needs_background": "light"
          }
        }
      ]
    },
    {
      "cell_type": "markdown",
      "metadata": {
        "id": "gmzfoA9vfc9L",
        "colab_type": "text"
      },
      "source": [
        "\n",
        "\n",
        "---\n",
        "\n",
        "# **5**\n",
        "\n",
        "If Ben goes to Vegas every weekend (Friday, Saturday and Sunday), plays every weekend day 10 hours, each game takes 3 mins, he gets a remaining hot deck with probability 1/10, he bets \\$1000 on hot decks and \\$10 on cold decks. Pick the number of cars and remaining hot deck that you obtained in 4. Asume that for cold decks the deck is the complete deck. What is the estimated amount of money that Ben wins or losses on a weekend estimated with 10 million simulations, with Spanish and Poker card decks? Plot the experimental distribution of the numbers of card requires to complete 21 in 10000 simulations."
      ]
    },
    {
      "cell_type": "code",
      "metadata": {
        "id": "GqmDaWu7kSJa",
        "colab_type": "code",
        "colab": {
          "base_uri": "https://localhost:8080/",
          "height": 1000
        },
        "outputId": "71d668d7-39fb-4443-8b27-ed04853aa561"
      },
      "source": [
        "n = 10000\n",
        "countSpDeck = 0\n",
        "countPkDeck = 0\n",
        "countHotSpDeck = 0\n",
        "countHotPkDeck = 0\n",
        "arrayCountSp = [0,0,0,0,0,0,0,0,0,0,0,0]\n",
        "arrayCountPk = [0,0,0,0,0,0,0,0,0,0,0,0]\n",
        "spanishDeckWithout_P4 = [1,2,3,4,6,8,9,10,11,12,1,2,3,4,5,6,8,9,10,11,12,1,2,3,4,5,6,7,8,9,10,11,12,1,2,3,4,5,6,7,8,9,10,11,12]\n",
        "pokerDeckWithout_P4 = [1,2,3,4,6,8,9,10,11,12,13,1,2,3,4,5,6,8,9,10,11,12,13,1,2,3,4,5,6,7,8,9,10,11,12,13,1,2,3,4,5,6,7,8,9,10,11,12,13]\n",
        "\n",
        "for i in range(1, n+1):\n",
        "  aux = deck_8(spanishDeckWithout_P4)\n",
        "  countSpDeck += sum21(aux,arrayCountSp,19)\n",
        "  countHotSpDeck += hotDeck(aux)\n",
        "\n",
        "  aux = deck_8(pokerDeckWithout_P4)\n",
        "  countPkDeck += sum21(aux, arrayCountPk,19)  \n",
        "  countHotPkDeck += hotDeck(aux)\n",
        "\n",
        "print(\"Hot Decks Spanish: \", countHotSpDeck/n*100,\" %\")\n",
        "print(\"Cold Deck Spanish: \", (1-countHotSpDeck/n)*100,\" %\\n\")\n",
        "\n",
        "print(\"Hot Decks Poker: \", countHotPkDeck/n*100,\" %\")\n",
        "print(\"Cold Deck Poker: \", (1-countHotPkDeck/n)*100,\" %\\n\\n\")\n",
        "\n",
        "#Calc Nº games : 3 days, 10 hours, 60 min each one, 3 min per game\n",
        "totalGames = int(3 * (10 * 60) / 3)\n",
        "print(\"\\nTotal Games played by Ben: \" + str(totalGames))\n",
        "\n",
        "#Quantity of games with HotDeck Spanish:\n",
        "qHotDeckSpGames = totalGames * (countHotSpDeck/n*100) / 100\n",
        "qColdDeckSpGames = totalGames - qHotDeckSpGames\n",
        "priceHotDeckSp = qHotDeckSpGames * 1000\n",
        "priceColdDeckSp = qColdDeckSpGames * 10\n",
        "\n",
        "#Quantity of games with HotDeck Poker:\n",
        "qHotDeckPkGames = totalGames * (countHotPkDeck/n*100) / 100\n",
        "qColdDeckPkGames = totalGames - qHotDeckPkGames;\n",
        "priceHotDeckPk = qHotDeckPkGames * 1000\n",
        "priceColdDeckPk = qColdDeckPkGames * 10\n",
        "\n",
        "print(\"\\nSPANISH DECK:\\nThe quantity of money spend by Ben is:\\nHot Deck: \"+ str(round(priceHotDeckSp,4))+\"\\nCold Deck: \"+str(round(priceColdDeckSp,4))+\"\\n\")\n",
        "print(\"POKER DECK:\\nThe quantity of money spend by Ben is:\\nHot Deck: \"+ str(round(priceHotDeckPk,4))+\"\\nCold Deck: \"+str(round(priceColdDeckPk,4))+\"\\n\")\n",
        "\n",
        "#Probability of 21 in each deck by 10000 tries\n",
        "probSpanish = countSpDeck / n\n",
        "probPoker = countPkDeck / n\n",
        "\n",
        "print(\"The probability for obtain a 21 (Spanish) \"+ str(round(probSpanish,4)*100) + \"%\")\n",
        "plot7 = plt.figure()\n",
        "axisPlot7 = plot7.add_axes([0,0,1,1])\n",
        "axisPlot7.bar(range(0,12),arrayCountSp)\n",
        "plt.show()\n",
        "print(\"The probability for obtain a 21 (Poker) \"+ str(round(probPoker,4)*100) +\"%\")\n",
        "plot8 = plt.figure()\n",
        "axisPlot8 = plot8.add_axes([0,0,1,1])\n",
        "axisPlot8.bar(range(0,12),arrayCountPk)\n",
        "plt.show()"
      ],
      "execution_count": 8,
      "outputs": [
        {
          "output_type": "stream",
          "text": [
            "Hot Decks Spanish:  79.47999999999999  %\n",
            "Cold Deck Spanish:  20.520000000000003  %\n",
            "\n",
            "Hot Decks Poker:  76.73  %\n",
            "Cold Deck Poker:  23.270000000000003  %\n",
            "\n",
            "\n",
            "\n",
            "Total Games played by Ben: 600\n",
            "\n",
            "SPANISH DECK:\n",
            "The quantity of money spend by Ben is:\n",
            "Hot Deck: 476880.0\n",
            "Cold Deck: 1231.2\n",
            "\n",
            "POKER DECK:\n",
            "The quantity of money spend by Ben is:\n",
            "Hot Deck: 460380.0\n",
            "Cold Deck: 1396.2\n",
            "\n",
            "The probability for obtain a 21 (Spanish) 9.71%\n"
          ],
          "name": "stdout"
        },
        {
          "output_type": "display_data",
          "data": {
            "image/png": "[encoded data removed]",
            "text/plain": [
              "<Figure size 432x288 with 1 Axes>"
            ]
          },
          "metadata": {
            "tags": [],
            "needs_background": "light"
          }
        },
        {
          "output_type": "stream",
          "text": [
            "The probability for obtain a 21 (Poker) 9.2%\n"
          ],
          "name": "stdout"
        },
        {
          "output_type": "display_data",
          "data": {
            "image/png": "[encoded data removed]",
            "text/plain": [
              "<Figure size 432x288 with 1 Axes>"
            ]
          },
          "metadata": {
            "tags": [],
            "needs_background": "light"
          }
        }
      ]
    },
    {
      "cell_type": "code",
      "metadata": {
        "id": "58NHvCjrlMMG",
        "colab_type": "code",
        "colab": {}
      },
      "source": [
        ""
      ],
      "execution_count": null,
      "outputs": []
    }
  ]
}